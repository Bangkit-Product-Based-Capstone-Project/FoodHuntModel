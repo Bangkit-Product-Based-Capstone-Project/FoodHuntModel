{
  "cells": [
    {
      "cell_type": "code",
      "execution_count": null,
      "metadata": {
        "id": "lIfgeyp7S_Ox"
      },
      "outputs": [],
      "source": [
        "# grader-required-cell\n",
        "\n",
        "import os\n",
        "import warnings\n",
        "import pandas as pd \n",
        "import seaborn as sns\n",
        "import csv\n",
        "import string\n",
        "import numpy as np\n",
        "import tensorflow as tf\n",
        "import matplotlib.pyplot as plt\n",
        "from tensorflow.keras.preprocessing.image import ImageDataGenerator, array_to_img\n",
        "import pandas as pd\n",
        "from tensorflow.keras.models import Sequential\n",
        "from tensorflow.keras.layers import Conv2D, MaxPooling2D, Flatten, Dense\n",
        "\n",
        "\n",
        "warnings.filterwarnings(\"ignore\")"
      ]
    },
    {
      "cell_type": "code",
      "execution_count": null,
      "metadata": {
        "id": "MBnHp_hPTJIR"
      },
      "outputs": [],
      "source": [
        "\n",
        "import tensorflow.keras.backend as K\n",
        "from tensorflow.keras.preprocessing import image\n",
        "from tensorflow.keras import models\n",
        "from tensorflow.keras.models import load_model\n",
        "from tensorflow.keras import models\n",
        "from PIL import Image \n",
        "from skimage.io import imread\n",
        "import cv2\n",
        "\n",
        "K.clear_session()"
      ]
    },
    {
      "cell_type": "code",
      "execution_count": null,
      "metadata": {
        "colab": {
          "base_uri": "https://localhost:8080/"
        },
        "id": "JbDz8BXMTLKh",
        "outputId": "1eeedfca-2a03-4c0a-bc9d-f3bfe473fc90"
      },
      "outputs": [
        {
          "output_type": "stream",
          "name": "stdout",
          "text": [
            "Looking in indexes: https://pypi.org/simple, https://us-python.pkg.dev/colab-wheels/public/simple/\n",
            "Collecting opendatasets\n",
            "  Downloading opendatasets-0.1.22-py3-none-any.whl (15 kB)\n",
            "Requirement already satisfied: tqdm in /usr/local/lib/python3.10/dist-packages (from opendatasets) (4.65.0)\n",
            "Requirement already satisfied: kaggle in /usr/local/lib/python3.10/dist-packages (from opendatasets) (1.5.13)\n",
            "Requirement already satisfied: click in /usr/local/lib/python3.10/dist-packages (from opendatasets) (8.1.3)\n",
            "Requirement already satisfied: six>=1.10 in /usr/local/lib/python3.10/dist-packages (from kaggle->opendatasets) (1.16.0)\n",
            "Requirement already satisfied: certifi in /usr/local/lib/python3.10/dist-packages (from kaggle->opendatasets) (2022.12.7)\n",
            "Requirement already satisfied: python-dateutil in /usr/local/lib/python3.10/dist-packages (from kaggle->opendatasets) (2.8.2)\n",
            "Requirement already satisfied: requests in /usr/local/lib/python3.10/dist-packages (from kaggle->opendatasets) (2.27.1)\n",
            "Requirement already satisfied: python-slugify in /usr/local/lib/python3.10/dist-packages (from kaggle->opendatasets) (8.0.1)\n",
            "Requirement already satisfied: urllib3 in /usr/local/lib/python3.10/dist-packages (from kaggle->opendatasets) (1.26.15)\n",
            "Requirement already satisfied: text-unidecode>=1.3 in /usr/local/lib/python3.10/dist-packages (from python-slugify->kaggle->opendatasets) (1.3)\n",
            "Requirement already satisfied: charset-normalizer~=2.0.0 in /usr/local/lib/python3.10/dist-packages (from requests->kaggle->opendatasets) (2.0.12)\n",
            "Requirement already satisfied: idna<4,>=2.5 in /usr/local/lib/python3.10/dist-packages (from requests->kaggle->opendatasets) (3.4)\n",
            "Installing collected packages: opendatasets\n",
            "Successfully installed opendatasets-0.1.22\n",
            "Looking in indexes: https://pypi.org/simple, https://us-python.pkg.dev/colab-wheels/public/simple/\n",
            "Requirement already satisfied: pandas in /usr/local/lib/python3.10/dist-packages (1.5.3)\n",
            "Requirement already satisfied: python-dateutil>=2.8.1 in /usr/local/lib/python3.10/dist-packages (from pandas) (2.8.2)\n",
            "Requirement already satisfied: pytz>=2020.1 in /usr/local/lib/python3.10/dist-packages (from pandas) (2022.7.1)\n",
            "Requirement already satisfied: numpy>=1.21.0 in /usr/local/lib/python3.10/dist-packages (from pandas) (1.22.4)\n",
            "Requirement already satisfied: six>=1.5 in /usr/local/lib/python3.10/dist-packages (from python-dateutil>=2.8.1->pandas) (1.16.0)\n"
          ]
        }
      ],
      "source": [
        "!pip install opendatasets\n",
        "!pip install pandas"
      ]
    },
    {
      "cell_type": "code",
      "execution_count": null,
      "metadata": {
        "colab": {
          "base_uri": "https://localhost:8080/"
        },
        "id": "Sr_cVgvGTODR",
        "outputId": "ea7ccf20-f208-4b63-fc0f-5c915be475c3"
      },
      "outputs": [
        {
          "output_type": "stream",
          "name": "stdout",
          "text": [
            "Please provide your Kaggle credentials to download this dataset. Learn more: http://bit.ly/kaggle-creds\n",
            "Your Kaggle username: felisitasrerung\n",
            "Your Kaggle Key: ··········\n",
            "Downloading traditional-food-knowledge-of-indonesia.zip to ./traditional-food-knowledge-of-indonesia\n"
          ]
        },
        {
          "output_type": "stream",
          "name": "stderr",
          "text": [
            "100%|██████████| 3.10G/3.10G [00:44<00:00, 75.4MB/s]\n"
          ]
        },
        {
          "output_type": "stream",
          "name": "stdout",
          "text": [
            "\n"
          ]
        }
      ],
      "source": [
        "import opendatasets as od\n",
        "import pandas\n",
        "od.download(\"https://www.kaggle.com/datasets/arizbw/traditional-food-knowledge-of-indonesia\")"
      ]
    },
    {
      "cell_type": "code",
      "execution_count": null,
      "metadata": {
        "id": "07Dov6z8TSON"
      },
      "outputs": [],
      "source": [
        "import os\n",
        "\n",
        "# Ubah nama file JSON sesuai dengan nama file yang diunggah\n",
        "os.environ['kaggle.json'] = '/content'"
      ]
    },
    {
      "cell_type": "code",
      "execution_count": null,
      "metadata": {
        "colab": {
          "base_uri": "https://localhost:8080/"
        },
        "id": "738LuNSJTTpS",
        "outputId": "510a460e-a139-4f40-dda1-1ecc95599828"
      },
      "outputs": [
        {
          "output_type": "stream",
          "name": "stdout",
          "text": [
            "Downloading traditional-food-knowledge-of-indonesia.zip to /content\n",
            "100% 3.10G/3.10G [00:30<00:00, 136MB/s]\n",
            "100% 3.10G/3.10G [00:30<00:00, 108MB/s]\n"
          ]
        }
      ],
      "source": [
        "!kaggle datasets download -d arizbw/traditional-food-knowledge-of-indonesia"
      ]
    },
    {
      "cell_type": "code",
      "execution_count": null,
      "metadata": {
        "colab": {
          "base_uri": "https://localhost:8080/"
        },
        "id": "OL09F6UWTVTp",
        "outputId": "84930aa4-0cb1-413b-812d-735357589d98"
      },
      "outputs": [
        {
          "output_type": "stream",
          "name": "stdout",
          "text": [
            "File json dataset tidak ditemukan\n"
          ]
        }
      ],
      "source": [
        "import os\n",
        "\n",
        "if os.path.exists('kaggle.json'):\n",
        "    print(\"File json dataset ada\")\n",
        "else:\n",
        "    print(\"File json dataset tidak ditemukan\")"
      ]
    },
    {
      "cell_type": "code",
      "execution_count": null,
      "metadata": {
        "id": "hQhNvWVWTYFg"
      },
      "outputs": [],
      "source": [
        "import zipfile\n",
        "\n",
        "# Nama file ZIP yang diunduh\n",
        "zip_file = \"traditional-food-knowledge-of-indonesia.zip\"\n",
        "\n",
        "# Ekstrak file ZIP\n",
        "with zipfile.ZipFile(zip_file, 'r') as zip_ref:\n",
        "    zip_ref.extractall(\"dataset\")\n",
        "\n",
        "dataset_dir = \"dataset\"\n",
        "# Memuat dataset dari direktori yang telah diekstrak\n",
        "# Lakukan proses pemrosesan dan pemuatan data ke dalam model machine learning\n",
        "# Lanjutkan dengan langkah-langkah berikutnya sesuai dengan tujuan aplikasi Anda"
      ]
    },
    {
      "cell_type": "code",
      "source": [
        "# Baca file CSV\n",
        "train_csv = pd.read_csv(\"dataset/train.csv\")\n",
        "test_csv = pd.read_csv(\"dataset/test.csv\")\n",
        "\n",
        "# Tentukan path folder dataset gambar\n",
        "image_folder = \"dataset/food-tfk-images\"\n",
        "\n",
        "# Buat objek ImageDataGenerator untuk augmentasi data dan pra-pemrosesan\n",
        "data_generator = ImageDataGenerator(\n",
        "    rescale=1./255,\n",
        "    validation_split=0.2,\n",
        "    rotation_range=20,\n",
        "    width_shift_range=0.2,\n",
        "    height_shift_range=0.2,\n",
        "    shear_range=0.2,\n",
        "    zoom_range=0.2,\n",
        "    horizontal_flip=True\n",
        ")\n",
        "\n",
        "# Memuat data gambar pelatihan\n",
        "train_data = data_generator.flow_from_dataframe(\n",
        "    dataframe=train_csv,\n",
        "    directory=image_folder,\n",
        "    x_col=\"Image Index\",  # Nama gambar\n",
        "    y_col=\"Finding Labels\",  # Label kelas\n",
        "    target_size=(224, 224),  # Ukuran gambar yang diharapkan\n",
        "    batch_size=32,\n",
        "    class_mode=\"categorical\",  # Mode klasifikasi multikelas\n",
        "    shuffle=False,  # Tidak melakukan pengacakan data\n",
        "    subset=\"training\"  # Subset data pelatihan\n",
        ")\n",
        "\n",
        "# Mendapatkan mapping indeks kelas dengan nama kelas\n",
        "train_class_indices = train_data.class_indices\n",
        "\n",
        "# Memuat data gambar validasi\n",
        "validation_data = data_generator.flow_from_dataframe(\n",
        "    dataframe=test_csv,\n",
        "    directory=image_folder,\n",
        "    x_col=\"Image Index\",\n",
        "    y_col=\"Finding Labels\",\n",
        "    target_size=(224, 224),\n",
        "    batch_size=32,\n",
        "    class_mode=\"categorical\",\n",
        "    shuffle=False,  # Tidak melakukan pengacakan data\n",
        "    subset=\"validation\"  # Subset data validasi\n",
        ")\n",
        "\n",
        "\n",
        "# Mendapatkan mapping indeks kelas dengan nama kelas pada data validasi\n",
        "validation_class_indices = validation_data.class_indices\n",
        "\n",
        "# Memastikan urutan kelas pada output model dan label sama\n",
        "validation_data.class_indices = train_class_indices\n",
        "\n",
        "# Memeriksa apakah jumlah kelas pada data validasi lebih banyak\n",
        "if len(validation_class_indices) > len(train_class_indices):\n",
        "    # Menambahkan kelas yang tidak ada pada data latih ke dalam mapping indeks kelas pada data validasi\n",
        "    for class_name, class_index in validation_class_indices.items():\n",
        "        if class_name not in train_class_indices:\n",
        "            train_class_indices[class_name] = len(train_class_indices)\n",
        "\n",
        "# Memastikan urutan kelas pada output model dan label sama setelah penyesuaian\n",
        "validation_data.class_indices = train_class_indices"
      ],
      "metadata": {
        "colab": {
          "base_uri": "https://localhost:8080/"
        },
        "outputId": "b4d1c773-42fa-40b0-fb70-ac1422a05246",
        "id": "jda2IRmRrwUe"
      },
      "execution_count": null,
      "outputs": [
        {
          "output_type": "stream",
          "name": "stdout",
          "text": [
            "Found 920 validated image filenames belonging to 34 classes.\n",
            "Found 65 validated image filenames belonging to 33 classes.\n"
          ]
        }
      ]
    },
    {
      "cell_type": "code",
      "source": [
        "# Mendapatkan pemetaan antara nama kelas dan indeks kelas\n",
        "train_class_indices = train_data.class_indices\n",
        "\n",
        "# Mencetak detail kelas\n",
        "for class_name, class_index in train_class_indices.items():\n",
        "    print(f\"Kelas: {class_name}, Indeks: {class_index}\")"
      ],
      "metadata": {
        "colab": {
          "base_uri": "https://localhost:8080/"
        },
        "id": "TKIaxiA5tUxF",
        "outputId": "0acc7d29-5aac-441b-e0f3-3cf960f4f4d7"
      },
      "execution_count": null,
      "outputs": [
        {
          "output_type": "stream",
          "name": "stdout",
          "text": [
            "Kelas: asinan-jakarta, Indeks: 0\n",
            "Kelas: ayam-betutu, Indeks: 1\n",
            "Kelas: ayam-bumbu-rujak, Indeks: 2\n",
            "Kelas: ayam-goreng-lengkuas, Indeks: 3\n",
            "Kelas: bika-ambon, Indeks: 4\n",
            "Kelas: bir-pletok, Indeks: 5\n",
            "Kelas: bubur-manado, Indeks: 6\n",
            "Kelas: cendol, Indeks: 7\n",
            "Kelas: es-dawet, Indeks: 8\n",
            "Kelas: gado-gado, Indeks: 9\n",
            "Kelas: gudeg, Indeks: 10\n",
            "Kelas: gulai-ikan-mas, Indeks: 11\n",
            "Kelas: keladi, Indeks: 12\n",
            "Kelas: kerak-telor, Indeks: 13\n",
            "Kelas: klappertart, Indeks: 14\n",
            "Kelas: kolak, Indeks: 15\n",
            "Kelas: kue-lumpur, Indeks: 16\n",
            "Kelas: kunyit-asam, Indeks: 17\n",
            "Kelas: laksa-bogor, Indeks: 18\n",
            "Kelas: lumpia-semarang, Indeks: 19\n",
            "Kelas: mie-aceh, Indeks: 20\n",
            "Kelas: nagasari, Indeks: 21\n",
            "Kelas: papeda, Indeks: 22\n",
            "Kelas: pempek-palembang, Indeks: 23\n",
            "Kelas: rawon-surabaya, Indeks: 24\n",
            "Kelas: rendang, Indeks: 25\n",
            "Kelas: rujak-cingur, Indeks: 26\n",
            "Kelas: sate-ayam-madura, Indeks: 27\n",
            "Kelas: sate-lilit, Indeks: 28\n",
            "Kelas: sate-maranggi, Indeks: 29\n",
            "Kelas: soerabi, Indeks: 30\n",
            "Kelas: soto-ayam-lamongan, Indeks: 31\n",
            "Kelas: soto-banjar, Indeks: 32\n",
            "Kelas: tahu-telur, Indeks: 33\n"
          ]
        }
      ]
    },
    {
      "cell_type": "code",
      "source": [
        "# Mendapatkan pemetaan antara nama kelas dan indeks kelas\n",
        "validation_class_indices = validation_data.class_indices\n",
        "\n",
        "# Mencetak detail kelas\n",
        "for class_name, class_index in validation_class_indices.items():\n",
        "    print(f\"Kelas: {class_name}, Indeks: {class_index}\")"
      ],
      "metadata": {
        "colab": {
          "base_uri": "https://localhost:8080/"
        },
        "id": "whPv5nSdtbYl",
        "outputId": "17fc458a-2de5-470f-a1b6-6fc07e8c1d8e"
      },
      "execution_count": null,
      "outputs": [
        {
          "output_type": "stream",
          "name": "stdout",
          "text": [
            "Kelas: asinan-jakarta, Indeks: 0\n",
            "Kelas: ayam-betutu, Indeks: 1\n",
            "Kelas: ayam-bumbu-rujak, Indeks: 2\n",
            "Kelas: ayam-goreng-lengkuas, Indeks: 3\n",
            "Kelas: bika-ambon, Indeks: 4\n",
            "Kelas: bir-pletok, Indeks: 5\n",
            "Kelas: bubur-manado, Indeks: 6\n",
            "Kelas: cendol, Indeks: 7\n",
            "Kelas: es-dawet, Indeks: 8\n",
            "Kelas: gado-gado, Indeks: 9\n",
            "Kelas: gudeg, Indeks: 10\n",
            "Kelas: gulai-ikan-mas, Indeks: 11\n",
            "Kelas: keladi, Indeks: 12\n",
            "Kelas: kerak-telor, Indeks: 13\n",
            "Kelas: klappertart, Indeks: 14\n",
            "Kelas: kolak, Indeks: 15\n",
            "Kelas: kue-lumpur, Indeks: 16\n",
            "Kelas: kunyit-asam, Indeks: 17\n",
            "Kelas: laksa-bogor, Indeks: 18\n",
            "Kelas: lumpia-semarang, Indeks: 19\n",
            "Kelas: mie-aceh, Indeks: 20\n",
            "Kelas: nagasari, Indeks: 21\n",
            "Kelas: papeda, Indeks: 22\n",
            "Kelas: pempek-palembang, Indeks: 23\n",
            "Kelas: rawon-surabaya, Indeks: 24\n",
            "Kelas: rendang, Indeks: 25\n",
            "Kelas: rujak-cingur, Indeks: 26\n",
            "Kelas: sate-ayam-madura, Indeks: 27\n",
            "Kelas: sate-lilit, Indeks: 28\n",
            "Kelas: sate-maranggi, Indeks: 29\n",
            "Kelas: soerabi, Indeks: 30\n",
            "Kelas: soto-ayam-lamongan, Indeks: 31\n",
            "Kelas: soto-banjar, Indeks: 32\n",
            "Kelas: tahu-telur, Indeks: 33\n"
          ]
        }
      ]
    },
    {
      "cell_type": "code",
      "source": [
        "from tensorflow.keras.applications import VGG16\n",
        "from tensorflow.keras.layers import Conv2D, MaxPooling2D, Flatten, Dense, Dropout\n",
        "from tensorflow.keras.models import Sequential\n",
        "from tensorflow.keras.optimizers import Adam\n",
        "\n",
        "# Memuat model pre-trained VGG16\n",
        "base_model = VGG16(weights='imagenet', include_top=False, input_shape=(224, 224, 3))\n",
        "base_model.trainable = False\n",
        "\n",
        "# Membangun model CNN sederhana\n",
        "model = Sequential([\n",
        "    base_model,\n",
        "    Conv2D(128, (3, 3), activation='relu'),\n",
        "    MaxPooling2D(2, 2),\n",
        "    Flatten(),\n",
        "    Dense(128, activation='relu'),\n",
        "    Dropout(0.5),\n",
        "    Dense(34, activation='softmax')\n",
        "])\n",
        "\n",
        "# Mengompilasi model\n",
        "optimizer = Adam(learning_rate=0.001)\n",
        "model.compile(optimizer=optimizer, loss='categorical_crossentropy', metrics=['accuracy'])\n",
        "\n",
        "# Melatih model\n",
        "history = model.fit(train_data, epochs=20, validation_data=validation_data)\n",
        "\n",
        "# Evaluasi model\n",
        "test_loss, test_accuracy = model.evaluate(validation_data)\n",
        "print(f\"Test Loss: {test_loss}\")\n",
        "print(f\"Test Accuracy: {test_accuracy}\")\n"
      ],
      "metadata": {
        "colab": {
          "base_uri": "https://localhost:8080/"
        },
        "id": "h8QoSZLhvkw-",
        "outputId": "b2fb1af4-05c5-4cf2-a411-83adbd776d5d"
      },
      "execution_count": null,
      "outputs": [
        {
          "output_type": "stream",
          "name": "stdout",
          "text": [
            "Epoch 1/20\n",
            "29/29 [==============================] - 125s 4s/step - loss: 3.2957 - accuracy: 0.1283 - val_loss: 3.1053 - val_accuracy: 0.1385\n",
            "Epoch 2/20\n",
            "29/29 [==============================] - 98s 3s/step - loss: 2.3398 - accuracy: 0.3261 - val_loss: 2.6077 - val_accuracy: 0.3077\n",
            "Epoch 3/20\n",
            "29/29 [==============================] - 97s 3s/step - loss: 1.5664 - accuracy: 0.5315 - val_loss: 2.8755 - val_accuracy: 0.3692\n",
            "Epoch 4/20\n",
            "29/29 [==============================] - 96s 3s/step - loss: 1.1193 - accuracy: 0.6630 - val_loss: 3.2119 - val_accuracy: 0.4923\n",
            "Epoch 5/20\n",
            "29/29 [==============================] - 96s 3s/step - loss: 0.7702 - accuracy: 0.7576 - val_loss: 3.7225 - val_accuracy: 0.4308\n",
            "Epoch 6/20\n",
            "29/29 [==============================] - 97s 3s/step - loss: 0.5412 - accuracy: 0.8402 - val_loss: 4.1749 - val_accuracy: 0.4769\n",
            "Epoch 7/20\n",
            "29/29 [==============================] - 98s 3s/step - loss: 0.4608 - accuracy: 0.8609 - val_loss: 4.3931 - val_accuracy: 0.4923\n",
            "Epoch 8/20\n",
            "29/29 [==============================] - 95s 3s/step - loss: 0.3940 - accuracy: 0.8870 - val_loss: 4.6575 - val_accuracy: 0.4923\n",
            "Epoch 9/20\n",
            "29/29 [==============================] - 95s 3s/step - loss: 0.3015 - accuracy: 0.9022 - val_loss: 5.1139 - val_accuracy: 0.5077\n",
            "Epoch 10/20\n",
            "29/29 [==============================] - 94s 3s/step - loss: 0.2638 - accuracy: 0.9163 - val_loss: 5.1783 - val_accuracy: 0.5077\n",
            "Epoch 11/20\n",
            "29/29 [==============================] - 94s 3s/step - loss: 0.2400 - accuracy: 0.9293 - val_loss: 5.0110 - val_accuracy: 0.5077\n",
            "Epoch 12/20\n",
            "29/29 [==============================] - 94s 3s/step - loss: 0.1942 - accuracy: 0.9511 - val_loss: 5.8213 - val_accuracy: 0.5077\n",
            "Epoch 13/20\n",
            "29/29 [==============================] - 95s 3s/step - loss: 0.1963 - accuracy: 0.9467 - val_loss: 6.1134 - val_accuracy: 0.5231\n",
            "Epoch 14/20\n",
            "29/29 [==============================] - 93s 3s/step - loss: 0.1725 - accuracy: 0.9533 - val_loss: 6.0762 - val_accuracy: 0.4923\n",
            "Epoch 15/20\n",
            "29/29 [==============================] - 96s 3s/step - loss: 0.1242 - accuracy: 0.9696 - val_loss: 6.6240 - val_accuracy: 0.5231\n",
            "Epoch 16/20\n",
            "29/29 [==============================] - 95s 3s/step - loss: 0.1224 - accuracy: 0.9576 - val_loss: 6.9692 - val_accuracy: 0.5231\n",
            "Epoch 17/20\n",
            "29/29 [==============================] - 95s 3s/step - loss: 0.1014 - accuracy: 0.9630 - val_loss: 6.8698 - val_accuracy: 0.5231\n",
            "Epoch 18/20\n",
            "29/29 [==============================] - 95s 3s/step - loss: 0.1259 - accuracy: 0.9630 - val_loss: 6.3631 - val_accuracy: 0.5231\n",
            "Epoch 19/20\n",
            "29/29 [==============================] - 95s 3s/step - loss: 0.1139 - accuracy: 0.9717 - val_loss: 6.4109 - val_accuracy: 0.5077\n",
            "Epoch 20/20\n",
            "29/29 [==============================] - 93s 3s/step - loss: 0.1104 - accuracy: 0.9663 - val_loss: 6.5147 - val_accuracy: 0.5077\n",
            "3/3 [==============================] - 6s 1s/step - loss: 7.5240 - accuracy: 0.5231\n",
            "Test Loss: 7.524015426635742\n",
            "Test Accuracy: 0.5230769515037537\n"
          ]
        }
      ]
    },
    {
      "cell_type": "code",
      "source": [
        "# Plot grafik loss\n",
        "plt.plot(history.history['loss'], label='Training Loss')\n",
        "plt.plot(history.history['val_loss'], label='Validation Loss')\n",
        "plt.xlabel('Epochs')\n",
        "plt.ylabel('Loss')\n",
        "plt.legend()\n",
        "plt.show()\n",
        "\n",
        "# Plot grafik akurasi\n",
        "plt.plot(history.history['accuracy'], label='Training Accuracy')\n",
        "plt.plot(history.history['val_accuracy'], label='Validation Accuracy')\n",
        "plt.xlabel('Epochs')\n",
        "plt.ylabel('Accuracy')\n",
        "plt.legend()\n",
        "plt.show()\n"
      ],
      "metadata": {
        "colab": {
          "base_uri": "https://localhost:8080/",
          "height": 881
        },
        "id": "9djKlJHN_eOn",
        "outputId": "bda5723c-979c-4234-bf7a-4f07bcda1c04"
      },
      "execution_count": null,
      "outputs": [
        {
          "output_type": "display_data",
          "data": {
            "text/plain": [
              "<Figure size 640x480 with 1 Axes>"
            ],
            "image/png": "[encoded data removed]"
          },
          "metadata": {}
        },
        {
          "output_type": "display_data",
          "data": {
            "text/plain": [
              "<Figure size 640x480 with 1 Axes>"
            ],
            "image/png": "[encoded data removed]"
          },
          "metadata": {}
        }
      ]
    },
    {
      "cell_type": "code",
      "source": [
        "model.save('my_model.h5')"
      ],
      "metadata": {
        "id": "-d9ZXPAA_l6f",
        "colab": {
          "base_uri": "https://localhost:8080/",
          "height": 165
        },
        "outputId": "90010d0c-0b4c-4d50-910f-e5245836fb2c"
      },
      "execution_count": null,
      "outputs": [
        {
          "output_type": "error",
          "ename": "NameError",
          "evalue": "ignored",
          "traceback": [
            "\u001b[0;31m---------------------------------------------------------------------------\u001b[0m",
            "\u001b[0;31mNameError\u001b[0m                                 Traceback (most recent call last)",
            "\u001b[0;32m<ipython-input-1-ef0fa6b69d60>\u001b[0m in \u001b[0;36m<cell line: 1>\u001b[0;34m()\u001b[0m\n\u001b[0;32m----> 1\u001b[0;31m \u001b[0mmodel\u001b[0m\u001b[0;34m.\u001b[0m\u001b[0msave\u001b[0m\u001b[0;34m(\u001b[0m\u001b[0;34m'my_model.h5'\u001b[0m\u001b[0;34m)\u001b[0m\u001b[0;34m\u001b[0m\u001b[0;34m\u001b[0m\u001b[0m\n\u001b[0m",
            "\u001b[0;31mNameError\u001b[0m: name 'model' is not defined"
          ]
        }
      ]
    },
    {
      "cell_type": "code",
      "source": [
        "from google.colab import files\n",
        "\n",
        "with open('Image Classification.h5', 'w') as f:\n",
        "  f.write('Image Classification.h5')\n",
        "\n",
        "files.download('Image Classification.h5')"
      ],
      "metadata": {
        "id": "2brr9ew6wLLr",
        "colab": {
          "base_uri": "https://localhost:8080/",
          "height": 17
        },
        "outputId": "b2503535-72ee-46f3-886a-4d24f3ff651a"
      },
      "execution_count": null,
      "outputs": [
        {
          "output_type": "display_data",
          "data": {
            "text/plain": [
              "<IPython.core.display.Javascript object>"
            ],
            "application/javascript": [
              "\n",
              "    async function download(id, filename, size) {\n",
              "      if (!google.colab.kernel.accessAllowed) {\n",
              "        return;\n",
              "      }\n",
              "      const div = document.createElement('div');\n",
              "      const label = document.createElement('label');\n",
              "      label.textContent = `Downloading \"${filename}\": `;\n",
              "      div.appendChild(label);\n",
              "      const progress = document.createElement('progress');\n",
              "      progress.max = size;\n",
              "      div.appendChild(progress);\n",
              "      document.body.appendChild(div);\n",
              "\n",
              "      const buffers = [];\n",
              "      let downloaded = 0;\n",
              "\n",
              "      const channel = await google.colab.kernel.comms.open(id);\n",
              "      // Send a message to notify the kernel that we're ready.\n",
              "      channel.send({})\n",
              "\n",
              "      for await (const message of channel.messages) {\n",
              "        // Send a message to notify the kernel that we're ready.\n",
              "        channel.send({})\n",
              "        if (message.buffers) {\n",
              "          for (const buffer of message.buffers) {\n",
              "            buffers.push(buffer);\n",
              "            downloaded += buffer.byteLength;\n",
              "            progress.value = downloaded;\n",
              "          }\n",
              "        }\n",
              "      }\n",
              "      const blob = new Blob(buffers, {type: 'application/binary'});\n",
              "      const a = document.createElement('a');\n",
              "      a.href = window.URL.createObjectURL(blob);\n",
              "      a.download = filename;\n",
              "      div.appendChild(a);\n",
              "      a.click();\n",
              "      div.remove();\n",
              "    }\n",
              "  "
            ]
          },
          "metadata": {}
        },
        {
          "output_type": "display_data",
          "data": {
            "text/plain": [
              "<IPython.core.display.Javascript object>"
            ],
            "application/javascript": [
              "download(\"download_97225689-c215-4e16-b5af-ed967f5129d0\", \"Image Classification.h5\", 23)"
            ]
          },
          "metadata": {}
        }
      ]
    }
  ],
  "metadata": {
    "colab": {
      "provenance": []
    },
    "kernelspec": {
      "display_name": "Python 3",
      "name": "python3"
    },
    "language_info": {
      "name": "python"
    }
  },
  "nbformat": 4,
  "nbformat_minor": 0
}