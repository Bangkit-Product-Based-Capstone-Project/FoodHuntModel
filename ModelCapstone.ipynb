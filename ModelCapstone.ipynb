{
  "cells": [
    {
      "cell_type": "code",
      "execution_count": 14,
      "metadata": {
        "id": "lIfgeyp7S_Ox"
      },
      "outputs": [],
      "source": [
        "# grader-required-cell\n",
        "\n",
        "import os\n",
        "import warnings\n",
        "import pandas as pd\n",
        "import seaborn as sns\n",
        "import csv\n",
        "import string\n",
        "import numpy as np\n",
        "import tensorflow as tf\n",
        "import matplotlib.pyplot as plt\n",
        "from tensorflow.keras.preprocessing.image import ImageDataGenerator, array_to_img\n",
        "import pandas as pd\n",
        "from tensorflow.keras.models import Sequential\n",
        "from tensorflow.keras.layers import Conv2D, MaxPooling2D, Flatten, Dense\n",
        "\n",
        "\n",
        "warnings.filterwarnings(\"ignore\")"
      ]
    },
    {
      "cell_type": "code",
      "execution_count": 15,
      "metadata": {
        "id": "MBnHp_hPTJIR"
      },
      "outputs": [],
      "source": [
        "\n",
        "import tensorflow.keras.backend as K\n",
        "from tensorflow.keras.preprocessing import image\n",
        "from tensorflow.keras import models\n",
        "from tensorflow.keras.models import load_model\n",
        "from tensorflow.keras import models\n",
        "from PIL import Image\n",
        "from skimage.io import imread\n",
        "import cv2\n",
        "\n",
        "K.clear_session()"
      ]
    },
    {
      "cell_type": "code",
      "execution_count": null,
      "metadata": {
        "colab": {
          "base_uri": "https://localhost:8080/"
        },
        "id": "JbDz8BXMTLKh",
        "outputId": "ac9dabee-fcab-419c-89c9-a0b8571c7c11"
      },
      "outputs": [
        {
          "name": "stdout",
          "output_type": "stream",
          "text": [
            "Looking in indexes: https://pypi.org/simple, https://us-python.pkg.dev/colab-wheels/public/simple/\n",
            "Collecting opendatasets\n",
            "  Downloading opendatasets-0.1.22-py3-none-any.whl (15 kB)\n",
            "Requirement already satisfied: tqdm in /usr/local/lib/python3.10/dist-packages (from opendatasets) (4.65.0)\n",
            "Requirement already satisfied: kaggle in /usr/local/lib/python3.10/dist-packages (from opendatasets) (1.5.13)\n",
            "Requirement already satisfied: click in /usr/local/lib/python3.10/dist-packages (from opendatasets) (8.1.3)\n",
            "Requirement already satisfied: six>=1.10 in /usr/local/lib/python3.10/dist-packages (from kaggle->opendatasets) (1.16.0)\n",
            "Requirement already satisfied: certifi in /usr/local/lib/python3.10/dist-packages (from kaggle->opendatasets) (2022.12.7)\n",
            "Requirement already satisfied: python-dateutil in /usr/local/lib/python3.10/dist-packages (from kaggle->opendatasets) (2.8.2)\n",
            "Requirement already satisfied: requests in /usr/local/lib/python3.10/dist-packages (from kaggle->opendatasets) (2.27.1)\n",
            "Requirement already satisfied: python-slugify in /usr/local/lib/python3.10/dist-packages (from kaggle->opendatasets) (8.0.1)\n",
            "Requirement already satisfied: urllib3 in /usr/local/lib/python3.10/dist-packages (from kaggle->opendatasets) (1.26.15)\n",
            "Requirement already satisfied: text-unidecode>=1.3 in /usr/local/lib/python3.10/dist-packages (from python-slugify->kaggle->opendatasets) (1.3)\n",
            "Requirement already satisfied: charset-normalizer~=2.0.0 in /usr/local/lib/python3.10/dist-packages (from requests->kaggle->opendatasets) (2.0.12)\n",
            "Requirement already satisfied: idna<4,>=2.5 in /usr/local/lib/python3.10/dist-packages (from requests->kaggle->opendatasets) (3.4)\n",
            "Installing collected packages: opendatasets\n",
            "Successfully installed opendatasets-0.1.22\n",
            "Looking in indexes: https://pypi.org/simple, https://us-python.pkg.dev/colab-wheels/public/simple/\n",
            "Requirement already satisfied: pandas in /usr/local/lib/python3.10/dist-packages (1.5.3)\n",
            "Requirement already satisfied: python-dateutil>=2.8.1 in /usr/local/lib/python3.10/dist-packages (from pandas) (2.8.2)\n",
            "Requirement already satisfied: pytz>=2020.1 in /usr/local/lib/python3.10/dist-packages (from pandas) (2022.7.1)\n",
            "Requirement already satisfied: numpy>=1.21.0 in /usr/local/lib/python3.10/dist-packages (from pandas) (1.22.4)\n",
            "Requirement already satisfied: six>=1.5 in /usr/local/lib/python3.10/dist-packages (from python-dateutil>=2.8.1->pandas) (1.16.0)\n"
          ]
        }
      ],
      "source": [
        "!pip install opendatasets\n",
        "!pip install pandas"
      ]
    },
    {
      "cell_type": "code",
      "execution_count": null,
      "metadata": {
        "colab": {
          "base_uri": "https://localhost:8080/",
          "height": 339
        },
        "id": "Sr_cVgvGTODR",
        "outputId": "e534ffc3-966d-4999-8c2e-4130a9cf68df"
      },
      "outputs": [
        {
          "ename": "ModuleNotFoundError",
          "evalue": "ignored",
          "output_type": "error",
          "traceback": [
            "\u001b[0;31m---------------------------------------------------------------------------\u001b[0m",
            "\u001b[0;31mModuleNotFoundError\u001b[0m                       Traceback (most recent call last)",
            "\u001b[0;32m<ipython-input-3-21c29ce756d0>\u001b[0m in \u001b[0;36m<cell line: 1>\u001b[0;34m()\u001b[0m\n\u001b[0;32m----> 1\u001b[0;31m \u001b[0;32mimport\u001b[0m \u001b[0mopendatasets\u001b[0m \u001b[0;32mas\u001b[0m \u001b[0mod\u001b[0m\u001b[0;34m\u001b[0m\u001b[0;34m\u001b[0m\u001b[0m\n\u001b[0m\u001b[1;32m      2\u001b[0m \u001b[0;32mimport\u001b[0m \u001b[0mpandas\u001b[0m\u001b[0;34m\u001b[0m\u001b[0;34m\u001b[0m\u001b[0m\n\u001b[1;32m      3\u001b[0m \u001b[0mod\u001b[0m\u001b[0;34m.\u001b[0m\u001b[0mdownload\u001b[0m\u001b[0;34m(\u001b[0m\u001b[0;34m\"https://www.kaggle.com/datasets/arizbw/traditional-food-knowledge-of-indonesia\"\u001b[0m\u001b[0;34m)\u001b[0m\u001b[0;34m\u001b[0m\u001b[0;34m\u001b[0m\u001b[0m\n",
            "\u001b[0;31mModuleNotFoundError\u001b[0m: No module named 'opendatasets'",
            "",
            "\u001b[0;31m---------------------------------------------------------------------------\u001b[0;32m\nNOTE: If your import is failing due to a missing package, you can\nmanually install dependencies using either !pip or !apt.\n\nTo view examples of installing some common dependencies, click the\n\"Open Examples\" button below.\n\u001b[0;31m---------------------------------------------------------------------------\u001b[0m\n"
          ]
        }
      ],
      "source": [
        "import opendatasets as od\n",
        "import pandas\n",
        "od.download(\"https://www.kaggle.com/datasets/arizbw/traditional-food-knowledge-of-indonesia\")"
      ]
    },
    {
      "cell_type": "code",
      "execution_count": 16,
      "metadata": {
        "id": "07Dov6z8TSON"
      },
      "outputs": [],
      "source": [
        "import os\n",
        "\n",
        "# Ubah nama file JSON sesuai dengan nama file yang diunggah\n",
        "os.environ['kaggle.json'] = '/content'"
      ]
    },
    {
      "cell_type": "code",
      "execution_count": null,
      "metadata": {
        "id": "ZGAAM5Dq-unU"
      },
      "outputs": [],
      "source": [
        "import os\n",
        "\n",
        "os.makedirs('/root/.kaggle', exist_ok=True)\n",
        "os.rename('kaggle.json', '/root/.kaggle/kaggle.json')"
      ]
    },
    {
      "cell_type": "code",
      "execution_count": null,
      "metadata": {
        "colab": {
          "base_uri": "https://localhost:8080/"
        },
        "id": "738LuNSJTTpS",
        "outputId": "c2219ade-5ada-4994-bcbd-4f1e04622882"
      },
      "outputs": [
        {
          "name": "stdout",
          "output_type": "stream",
          "text": [
            "Warning: Your Kaggle API key is readable by other users on this system! To fix this, you can run 'chmod 600 /root/.kaggle/kaggle.json'\n",
            "Downloading traditional-food-knowledge-of-indonesia.zip to /content\n",
            "100% 3.10G/3.10G [00:43<00:00, 91.5MB/s]\n",
            "100% 3.10G/3.10G [00:43<00:00, 77.0MB/s]\n"
          ]
        }
      ],
      "source": [
        "!kaggle datasets download -d arizbw/traditional-food-knowledge-of-indonesia"
      ]
    },
    {
      "cell_type": "code",
      "execution_count": null,
      "metadata": {
        "colab": {
          "base_uri": "https://localhost:8080/"
        },
        "id": "OL09F6UWTVTp",
        "outputId": "6c3b7ade-02f7-4a18-ab3e-acf232583deb"
      },
      "outputs": [
        {
          "name": "stdout",
          "output_type": "stream",
          "text": [
            "File json dataset tidak ditemukan\n"
          ]
        }
      ],
      "source": [
        "import os\n",
        "\n",
        "if os.path.exists('kaggle.json'):\n",
        "    print(\"File json dataset ada\")\n",
        "else:\n",
        "    print(\"File json dataset tidak ditemukan\")"
      ]
    },
    {
      "cell_type": "code",
      "execution_count": null,
      "metadata": {
        "id": "hQhNvWVWTYFg"
      },
      "outputs": [],
      "source": [
        "import zipfile\n",
        "\n",
        "# Nama file ZIP yang diunduh\n",
        "zip_file = \"traditional-food-knowledge-of-indonesia.zip\"\n",
        "\n",
        "# Ekstrak file ZIP\n",
        "with zipfile.ZipFile(zip_file, 'r') as zip_ref:\n",
        "    zip_ref.extractall(\"dataset\")\n",
        "\n",
        "dataset_dir = \"dataset\"\n",
        "# Memuat dataset dari direktori yang telah diekstrak\n",
        "# Lakukan proses pemrosesan dan pemuatan data ke dalam model machine learning\n",
        "# Lanjutkan dengan langkah-langkah berikutnya sesuai dengan tujuan aplikasi Anda"
      ]
    },
    {
      "cell_type": "code",
      "execution_count": null,
      "metadata": {
        "colab": {
          "base_uri": "https://localhost:8080/"
        },
        "id": "jda2IRmRrwUe",
        "outputId": "8705a829-39cf-43a8-b3ad-4fd138ab6651"
      },
      "outputs": [
        {
          "name": "stdout",
          "output_type": "stream",
          "text": [
            "Found 920 validated image filenames belonging to 34 classes.\n",
            "Found 65 validated image filenames belonging to 33 classes.\n"
          ]
        }
      ],
      "source": [
        "# Baca file CSV\n",
        "train_csv = pd.read_csv(\"dataset/train.csv\")\n",
        "test_csv = pd.read_csv(\"dataset/test.csv\")\n",
        "\n",
        "# Tentukan path folder dataset gambar\n",
        "image_folder = \"dataset/food-tfk-images\"\n",
        "\n",
        "# Buat objek ImageDataGenerator untuk augmentasi data dan pra-pemrosesan\n",
        "data_generator = ImageDataGenerator(\n",
        "    rescale=1./255,\n",
        "    validation_split=0.2,\n",
        "    rotation_range=20,\n",
        "    width_shift_range=0.2,\n",
        "    height_shift_range=0.2,\n",
        "    shear_range=0.2,\n",
        "    zoom_range=0.2,\n",
        "    horizontal_flip=True\n",
        ")\n",
        "\n",
        "# Memuat data gambar pelatihan\n",
        "train_data = data_generator.flow_from_dataframe(\n",
        "    dataframe=train_csv,\n",
        "    directory=image_folder,\n",
        "    x_col=\"Image Index\",  # Nama gambar\n",
        "    y_col=\"Finding Labels\",  # Label kelas\n",
        "    target_size=(224, 224),  # Ukuran gambar yang diharapkan\n",
        "    batch_size=32,\n",
        "    class_mode=\"categorical\",  # Mode klasifikasi multikelas\n",
        "    shuffle=False,  # Tidak melakukan pengacakan data\n",
        "    subset=\"training\"  # Subset data pelatihan\n",
        ")\n",
        "\n",
        "# Mendapatkan mapping indeks kelas dengan nama kelas\n",
        "train_class_indices = train_data.class_indices\n",
        "\n",
        "# Memuat data gambar validasi\n",
        "validation_data = data_generator.flow_from_dataframe(\n",
        "    dataframe=test_csv,\n",
        "    directory=image_folder,\n",
        "    x_col=\"Image Index\",\n",
        "    y_col=\"Finding Labels\",\n",
        "    target_size=(224, 224),\n",
        "    batch_size=32,\n",
        "    class_mode=\"categorical\",\n",
        "    shuffle=False,  # Tidak melakukan pengacakan data\n",
        "    subset=\"validation\"  # Subset data validasi\n",
        ")\n",
        "\n",
        "\n",
        "# Mendapatkan mapping indeks kelas dengan nama kelas pada data validasi\n",
        "validation_class_indices = validation_data.class_indices\n",
        "\n",
        "# Memastikan urutan kelas pada output model dan label sama\n",
        "validation_data.class_indices = train_class_indices\n",
        "\n",
        "# Memeriksa apakah jumlah kelas pada data validasi lebih banyak\n",
        "if len(validation_class_indices) > len(train_class_indices):\n",
        "    # Menambahkan kelas yang tidak ada pada data latih ke dalam mapping indeks kelas pada data validasi\n",
        "    for class_name, class_index in validation_class_indices.items():\n",
        "        if class_name not in train_class_indices:\n",
        "            train_class_indices[class_name] = len(train_class_indices)\n",
        "\n",
        "# Memastikan urutan kelas pada output model dan label sama setelah penyesuaian\n",
        "validation_data.class_indices = train_class_indices"
      ]
    },
    {
      "cell_type": "code",
      "execution_count": null,
      "metadata": {
        "colab": {
          "base_uri": "https://localhost:8080/"
        },
        "id": "TKIaxiA5tUxF",
        "outputId": "daaa06fc-d2a0-44f8-b102-72df3eec95bd"
      },
      "outputs": [
        {
          "name": "stdout",
          "output_type": "stream",
          "text": [
            "Kelas: asinan-jakarta, Indeks: 0\n",
            "Kelas: ayam-betutu, Indeks: 1\n",
            "Kelas: ayam-bumbu-rujak, Indeks: 2\n",
            "Kelas: ayam-goreng-lengkuas, Indeks: 3\n",
            "Kelas: bika-ambon, Indeks: 4\n",
            "Kelas: bir-pletok, Indeks: 5\n",
            "Kelas: bubur-manado, Indeks: 6\n",
            "Kelas: cendol, Indeks: 7\n",
            "Kelas: es-dawet, Indeks: 8\n",
            "Kelas: gado-gado, Indeks: 9\n",
            "Kelas: gudeg, Indeks: 10\n",
            "Kelas: gulai-ikan-mas, Indeks: 11\n",
            "Kelas: keladi, Indeks: 12\n",
            "Kelas: kerak-telor, Indeks: 13\n",
            "Kelas: klappertart, Indeks: 14\n",
            "Kelas: kolak, Indeks: 15\n",
            "Kelas: kue-lumpur, Indeks: 16\n",
            "Kelas: kunyit-asam, Indeks: 17\n",
            "Kelas: laksa-bogor, Indeks: 18\n",
            "Kelas: lumpia-semarang, Indeks: 19\n",
            "Kelas: mie-aceh, Indeks: 20\n",
            "Kelas: nagasari, Indeks: 21\n",
            "Kelas: papeda, Indeks: 22\n",
            "Kelas: pempek-palembang, Indeks: 23\n",
            "Kelas: rawon-surabaya, Indeks: 24\n",
            "Kelas: rendang, Indeks: 25\n",
            "Kelas: rujak-cingur, Indeks: 26\n",
            "Kelas: sate-ayam-madura, Indeks: 27\n",
            "Kelas: sate-lilit, Indeks: 28\n",
            "Kelas: sate-maranggi, Indeks: 29\n",
            "Kelas: soerabi, Indeks: 30\n",
            "Kelas: soto-ayam-lamongan, Indeks: 31\n",
            "Kelas: soto-banjar, Indeks: 32\n",
            "Kelas: tahu-telur, Indeks: 33\n"
          ]
        }
      ],
      "source": [
        "# Mendapatkan pemetaan antara nama kelas dan indeks kelas\n",
        "train_class_indices = train_data.class_indices\n",
        "\n",
        "# Mencetak detail kelas\n",
        "for class_name, class_index in train_class_indices.items():\n",
        "    print(f\"Kelas: {class_name}, Indeks: {class_index}\")"
      ]
    },
    {
      "cell_type": "code",
      "execution_count": null,
      "metadata": {
        "colab": {
          "base_uri": "https://localhost:8080/"
        },
        "id": "whPv5nSdtbYl",
        "outputId": "15ff862d-7137-41a7-ee82-03448a47aa91"
      },
      "outputs": [
        {
          "name": "stdout",
          "output_type": "stream",
          "text": [
            "Kelas: asinan-jakarta, Indeks: 0\n",
            "Kelas: ayam-betutu, Indeks: 1\n",
            "Kelas: ayam-bumbu-rujak, Indeks: 2\n",
            "Kelas: ayam-goreng-lengkuas, Indeks: 3\n",
            "Kelas: bika-ambon, Indeks: 4\n",
            "Kelas: bir-pletok, Indeks: 5\n",
            "Kelas: bubur-manado, Indeks: 6\n",
            "Kelas: cendol, Indeks: 7\n",
            "Kelas: es-dawet, Indeks: 8\n",
            "Kelas: gado-gado, Indeks: 9\n",
            "Kelas: gudeg, Indeks: 10\n",
            "Kelas: gulai-ikan-mas, Indeks: 11\n",
            "Kelas: keladi, Indeks: 12\n",
            "Kelas: kerak-telor, Indeks: 13\n",
            "Kelas: klappertart, Indeks: 14\n",
            "Kelas: kolak, Indeks: 15\n",
            "Kelas: kue-lumpur, Indeks: 16\n",
            "Kelas: kunyit-asam, Indeks: 17\n",
            "Kelas: laksa-bogor, Indeks: 18\n",
            "Kelas: lumpia-semarang, Indeks: 19\n",
            "Kelas: mie-aceh, Indeks: 20\n",
            "Kelas: nagasari, Indeks: 21\n",
            "Kelas: papeda, Indeks: 22\n",
            "Kelas: pempek-palembang, Indeks: 23\n",
            "Kelas: rawon-surabaya, Indeks: 24\n",
            "Kelas: rendang, Indeks: 25\n",
            "Kelas: rujak-cingur, Indeks: 26\n",
            "Kelas: sate-ayam-madura, Indeks: 27\n",
            "Kelas: sate-lilit, Indeks: 28\n",
            "Kelas: sate-maranggi, Indeks: 29\n",
            "Kelas: soerabi, Indeks: 30\n",
            "Kelas: soto-ayam-lamongan, Indeks: 31\n",
            "Kelas: soto-banjar, Indeks: 32\n",
            "Kelas: tahu-telur, Indeks: 33\n"
          ]
        }
      ],
      "source": [
        "# Mendapatkan pemetaan antara nama kelas dan indeks kelas\n",
        "validation_class_indices = validation_data.class_indices\n",
        "\n",
        "# Mencetak detail kelas\n",
        "for class_name, class_index in validation_class_indices.items():\n",
        "    print(f\"Kelas: {class_name}, Indeks: {class_index}\")"
      ]
    },
    {
      "cell_type": "code",
      "execution_count": 18,
      "metadata": {
        "colab": {
          "base_uri": "https://localhost:8080/"
        },
        "id": "h8QoSZLhvkw-",
        "outputId": "0642e50b-bfb5-47a8-e325-40c952654bbd"
      },
      "outputs": [
        {
          "output_type": "stream",
          "name": "stdout",
          "text": [
            "Model: \"sequential_1\"\n",
            "_________________________________________________________________\n",
            " Layer (type)                Output Shape              Param #   \n",
            "=================================================================\n",
            " vgg16 (Functional)          (None, 7, 7, 512)         14714688  \n",
            "                                                                 \n",
            " conv2d_1 (Conv2D)           (None, 5, 5, 128)         589952    \n",
            "                                                                 \n",
            " max_pooling2d_1 (MaxPooling  (None, 2, 2, 128)        0         \n",
            " 2D)                                                             \n",
            "                                                                 \n",
            " flatten_1 (Flatten)         (None, 512)               0         \n",
            "                                                                 \n",
            " dense_2 (Dense)             (None, 128)               65664     \n",
            "                                                                 \n",
            " dropout_1 (Dropout)         (None, 128)               0         \n",
            "                                                                 \n",
            " dense_3 (Dense)             (None, 34)                4386      \n",
            "                                                                 \n",
            "=================================================================\n",
            "Total params: 15,374,690\n",
            "Trainable params: 660,002\n",
            "Non-trainable params: 14,714,688\n",
            "_________________________________________________________________\n"
          ]
        }
      ],
      "source": [
        "from tensorflow.keras.applications import VGG16\n",
        "from tensorflow.keras.layers import Conv2D, MaxPooling2D, Flatten, Dense, Dropout\n",
        "from tensorflow.keras.models import Sequential\n",
        "from tensorflow.keras.optimizers import Adam\n",
        "\n",
        "# Memuat model pre-trained VGG16\n",
        "base_model = VGG16(weights='imagenet', include_top=False, input_shape=(224, 224, 3))\n",
        "base_model.trainable = False\n",
        "\n",
        "# Membangun model CNN sederhana\n",
        "model = Sequential([\n",
        "    base_model,\n",
        "    Conv2D(128, (3, 3), activation='relu'),\n",
        "    MaxPooling2D(2, 2),\n",
        "    Flatten(),\n",
        "    Dense(128, activation='relu'),\n",
        "    Dropout(0.5),\n",
        "    Dense(34, activation='softmax')\n",
        "])\n",
        "\n",
        "# Mengompilasi model\n",
        "optimizer = Adam(learning_rate=0.001)\n",
        "model.compile(optimizer=optimizer, loss='categorical_crossentropy', metrics=['accuracy'])\n",
        "model.summary()\n"
      ]
    },
    {
      "cell_type": "code",
      "execution_count": 44,
      "metadata": {
        "colab": {
          "base_uri": "https://localhost:8080/"
        },
        "id": "UECMh-drEOnn",
        "outputId": "dc9d6d84-a3a3-4035-91b0-6cdb8746abdf"
      },
      "outputs": [
        {
          "output_type": "stream",
          "name": "stdout",
          "text": [
            "Epoch 1/20\n",
            "29/29 [==============================] - 510s 17s/step - loss: 0.0973 - accuracy: 0.9696 - val_loss: 7.0529 - val_accuracy: 0.5231\n",
            "Epoch 2/20\n",
            "29/29 [==============================] - 449s 15s/step - loss: 0.0777 - accuracy: 0.9772 - val_loss: 7.7902 - val_accuracy: 0.5231\n",
            "Epoch 3/20\n",
            "29/29 [==============================] - 458s 16s/step - loss: 0.0825 - accuracy: 0.9717 - val_loss: 6.8918 - val_accuracy: 0.5231\n",
            "Epoch 4/20\n",
            "29/29 [==============================] - 446s 15s/step - loss: 0.0752 - accuracy: 0.9772 - val_loss: 8.2230 - val_accuracy: 0.5231\n",
            "Epoch 5/20\n",
            "29/29 [==============================] - 470s 16s/step - loss: 0.0725 - accuracy: 0.9826 - val_loss: 7.7002 - val_accuracy: 0.5231\n",
            "Epoch 6/20\n",
            "29/29 [==============================] - 465s 16s/step - loss: 0.0692 - accuracy: 0.9783 - val_loss: 8.2864 - val_accuracy: 0.5231\n",
            "Epoch 7/20\n",
            "29/29 [==============================] - 444s 15s/step - loss: 0.0525 - accuracy: 0.9848 - val_loss: 8.2439 - val_accuracy: 0.5231\n",
            "Epoch 8/20\n",
            "29/29 [==============================] - 459s 16s/step - loss: 0.0909 - accuracy: 0.9717 - val_loss: 8.1982 - val_accuracy: 0.5231\n",
            "Epoch 9/20\n",
            "29/29 [==============================] - 462s 16s/step - loss: 0.0645 - accuracy: 0.9826 - val_loss: 9.2660 - val_accuracy: 0.5231\n",
            "Epoch 10/20\n",
            "29/29 [==============================] - 444s 15s/step - loss: 0.0661 - accuracy: 0.9837 - val_loss: 8.1760 - val_accuracy: 0.5231\n",
            "Epoch 11/20\n",
            "29/29 [==============================] - 443s 15s/step - loss: 0.0531 - accuracy: 0.9848 - val_loss: 9.8463 - val_accuracy: 0.5231\n",
            "Epoch 12/20\n",
            "29/29 [==============================] - 443s 15s/step - loss: 0.0596 - accuracy: 0.9815 - val_loss: 8.9132 - val_accuracy: 0.5231\n",
            "Epoch 13/20\n",
            "29/29 [==============================] - 441s 15s/step - loss: 0.0556 - accuracy: 0.9826 - val_loss: 8.8644 - val_accuracy: 0.5231\n",
            "Epoch 14/20\n",
            "29/29 [==============================] - 454s 16s/step - loss: 0.0363 - accuracy: 0.9902 - val_loss: 8.4047 - val_accuracy: 0.5231\n",
            "Epoch 15/20\n",
            "29/29 [==============================] - 452s 16s/step - loss: 0.0414 - accuracy: 0.9870 - val_loss: 9.3604 - val_accuracy: 0.5231\n",
            "Epoch 16/20\n",
            "29/29 [==============================] - 452s 16s/step - loss: 0.0561 - accuracy: 0.9826 - val_loss: 9.2770 - val_accuracy: 0.5231\n",
            "Epoch 17/20\n",
            "29/29 [==============================] - 452s 16s/step - loss: 0.0551 - accuracy: 0.9804 - val_loss: 9.6296 - val_accuracy: 0.5231\n",
            "Epoch 18/20\n",
            "29/29 [==============================] - 440s 15s/step - loss: 0.0366 - accuracy: 0.9902 - val_loss: 9.4607 - val_accuracy: 0.5231\n",
            "Epoch 19/20\n",
            "29/29 [==============================] - 454s 16s/step - loss: 0.0438 - accuracy: 0.9859 - val_loss: 10.1033 - val_accuracy: 0.5231\n",
            "Epoch 20/20\n",
            "29/29 [==============================] - 449s 15s/step - loss: 0.0527 - accuracy: 0.9859 - val_loss: 9.1549 - val_accuracy: 0.5231\n",
            "3/3 [==============================] - 32s 7s/step - loss: 9.7238 - accuracy: 0.5231\n",
            "Test Loss: 9.723816871643066\n",
            "Test Accuracy: 0.5230769515037537\n"
          ]
        }
      ],
      "source": [
        "# Melatih model\n",
        "history = model.fit(train_data, epochs=20, validation_data=validation_data)\n",
        "\n",
        "# Evaluasi model\n",
        "test_loss, test_accuracy = model.evaluate(validation_data)\n",
        "print(f\"Test Loss: {test_loss}\")\n",
        "print(f\"Test Accuracy: {test_accuracy}\")\n"
      ]
    },
    {
      "cell_type": "code",
      "execution_count": null,
      "metadata": {
        "colab": {
          "base_uri": "https://localhost:8080/",
          "height": 882
        },
        "id": "9djKlJHN_eOn",
        "outputId": "4a68afc1-f049-4a76-9564-f902c9a3a10a"
      },
      "outputs": [
        {
          "data": {
            "image/png": "[encoded data removed]",
            "text/plain": [
              "<Figure size 640x480 with 1 Axes>"
            ]
          },
          "metadata": {},
          "output_type": "display_data"
        },
        {
          "data": {
            "image/png": "[encoded data removed]",
            "text/plain": [
              "<Figure size 640x480 with 1 Axes>"
            ]
          },
          "metadata": {},
          "output_type": "display_data"
        }
      ],
      "source": [
        "# Plot grafik loss\n",
        "plt.plot(history.history['loss'], label='Training Loss')\n",
        "plt.plot(history.history['val_loss'], label='Validation Loss')\n",
        "plt.xlabel('Epochs')\n",
        "plt.ylabel('Loss')\n",
        "plt.legend()\n",
        "plt.show()\n",
        "\n",
        "# Plot grafik akurasi\n",
        "plt.plot(history.history['accuracy'], label='Training Accuracy')\n",
        "plt.plot(history.history['val_accuracy'], label='Validation Accuracy')\n",
        "plt.xlabel('Epochs')\n",
        "plt.ylabel('Accuracy')\n",
        "plt.legend()\n",
        "plt.show()\n"
      ]
    },
    {
      "cell_type": "code",
      "execution_count": 37,
      "metadata": {
        "colab": {
          "base_uri": "https://localhost:8080/"
        },
        "id": "2dM7ZI5kPTWn",
        "outputId": "ea59df5d-d5f8-4fad-cf57-d4dd7fa74c33"
      },
      "outputs": [
        {
          "output_type": "stream",
          "name": "stdout",
          "text": [
            "Drive already mounted at /content/drive; to attempt to forcibly remount, call drive.mount(\"/content/drive\", force_remount=True).\n"
          ]
        }
      ],
      "source": [
        "from google.colab import drive\n",
        "drive.mount('/content/drive')"
      ]
    },
    {
      "cell_type": "code",
      "execution_count": 35,
      "metadata": {
        "id": "gRrKph3dczWl"
      },
      "outputs": [],
      "source": [
        "from tensorflow.keras.models import load_model\n",
        "\n",
        "model.save('/content/drive/MyDrive/SavedModels/ModelCapstone.h5')"
      ]
    },
    {
      "cell_type": "code",
      "execution_count": 38,
      "metadata": {
        "id": "VcJdNN1wbpZ9",
        "colab": {
          "base_uri": "https://localhost:8080/"
        },
        "outputId": "5efa5f25-ce7e-4022-bfd4-e94ffbca4bc3"
      },
      "outputs": [
        {
          "output_type": "stream",
          "name": "stderr",
          "text": [
            "WARNING:absl:Found untraced functions such as _jit_compiled_convolution_op, _update_step_xla, _jit_compiled_convolution_op, _jit_compiled_convolution_op, _jit_compiled_convolution_op while saving (showing 5 of 15). These functions will not be directly callable after loading.\n"
          ]
        }
      ],
      "source": [
        "import os\n",
        "import tensorflow as tf\n",
        "from keras.models import load_model\n",
        "\n",
        "model = load_model(\"my_model.h5\")\n",
        "\n",
        "converter = tf.lite.TFLiteConverter.from_keras_model(model)\n",
        "converter.optimizations = [tf.lite.Optimize.DEFAULT]\n",
        "tflite_model = converter.convert()\n",
        "\n"
      ]
    },
    {
      "cell_type": "code",
      "source": [
        "tflite_file_path = '/content/model.tflite'\n",
        "drive_save_path = '/content/drive/MyDrive/SavedModels/model.tflite'"
      ],
      "metadata": {
        "id": "tGtCZKudbcxc"
      },
      "execution_count": 41,
      "outputs": []
    },
    {
      "cell_type": "code",
      "source": [
        "!cp {tflite_file_path} {drive_save_path}"
      ],
      "metadata": {
        "id": "QL0EdwqKGirf"
      },
      "execution_count": 42,
      "outputs": []
    },
    {
      "cell_type": "code",
      "execution_count": null,
      "metadata": {
        "colab": {
          "base_uri": "https://localhost:8080/",
          "height": 165
        },
        "id": "-d9ZXPAA_l6f",
        "outputId": "7e55bd09-1ea6-4fe9-85c0-d56866899d84"
      },
      "outputs": [
        {
          "ename": "NameError",
          "evalue": "ignored",
          "output_type": "error",
          "traceback": [
            "\u001b[0;31m---------------------------------------------------------------------------\u001b[0m",
            "\u001b[0;31mNameError\u001b[0m                                 Traceback (most recent call last)",
            "\u001b[0;32m<ipython-input-1-ef0fa6b69d60>\u001b[0m in \u001b[0;36m<cell line: 1>\u001b[0;34m()\u001b[0m\n\u001b[0;32m----> 1\u001b[0;31m \u001b[0mmodel\u001b[0m\u001b[0;34m.\u001b[0m\u001b[0msave\u001b[0m\u001b[0;34m(\u001b[0m\u001b[0;34m'my_model.h5'\u001b[0m\u001b[0;34m)\u001b[0m\u001b[0;34m\u001b[0m\u001b[0;34m\u001b[0m\u001b[0m\n\u001b[0m",
            "\u001b[0;31mNameError\u001b[0m: name 'model' is not defined"
          ]
        }
      ],
      "source": [
        "model.save('my_model.h5')"
      ]
    }
  ],
  "metadata": {
    "colab": {
      "provenance": []
    },
    "kernelspec": {
      "display_name": "Python 3",
      "name": "python3"
    },
    "language_info": {
      "name": "python"
    }
  },
  "nbformat": 4,
  "nbformat_minor": 0
}